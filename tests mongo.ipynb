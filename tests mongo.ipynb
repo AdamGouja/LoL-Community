{
 "cells": [
  {
   "cell_type": "code",
   "execution_count": 56,
   "id": "ae5bc4de",
   "metadata": {},
   "outputs": [],
   "source": [
    "import pandas as pd\n",
    "import pymongo\n",
    "from pymongo import MongoClient\n",
    "import snscrape.modules.twitter as sntwitter\n",
    "import json"
   ]
  },
  {
   "cell_type": "code",
   "execution_count": 57,
   "id": "12c49d34",
   "metadata": {
    "scrolled": true
   },
   "outputs": [
    {
     "name": "stderr",
     "output_type": "stream",
     "text": [
      "C:\\ProgramData\\Anaconda3\\lib\\site-packages\\IPython\\core\\interactiveshell.py:3444: DtypeWarning: Columns (0,4,5) have mixed types.Specify dtype option on import or set low_memory=False.\n",
      "  exec(code_obj, self.user_global_ns, self.user_ns)\n"
     ]
    }
   ],
   "source": [
    "df = pd.read_csv('data.csv')"
   ]
  },
  {
   "cell_type": "code",
   "execution_count": 58,
   "id": "4d0fc7dd",
   "metadata": {},
   "outputs": [
    {
     "data": {
      "text/html": [
       "<div>\n",
       "<style scoped>\n",
       "    .dataframe tbody tr th:only-of-type {\n",
       "        vertical-align: middle;\n",
       "    }\n",
       "\n",
       "    .dataframe tbody tr th {\n",
       "        vertical-align: top;\n",
       "    }\n",
       "\n",
       "    .dataframe thead th {\n",
       "        text-align: right;\n",
       "    }\n",
       "</style>\n",
       "<table border=\"1\" class=\"dataframe\">\n",
       "  <thead>\n",
       "    <tr style=\"text-align: right;\">\n",
       "      <th></th>\n",
       "      <th>Unnamed: 0</th>\n",
       "      <th>id</th>\n",
       "      <th>date</th>\n",
       "      <th>content</th>\n",
       "      <th>like</th>\n",
       "      <th>reply</th>\n",
       "      <th>retweet</th>\n",
       "      <th>username</th>\n",
       "      <th>tag</th>\n",
       "    </tr>\n",
       "  </thead>\n",
       "  <tbody>\n",
       "    <tr>\n",
       "      <th>0</th>\n",
       "      <td>1</td>\n",
       "      <td>1.487473e+18</td>\n",
       "      <td>2022-01-29</td>\n",
       "      <td>Oglądam LOLa 8 lat i jeszcze nigdy nie widzial...</td>\n",
       "      <td>1</td>\n",
       "      <td>0</td>\n",
       "      <td>0.0</td>\n",
       "      <td>KeNyDi5</td>\n",
       "      <td>Excel</td>\n",
       "    </tr>\n",
       "    <tr>\n",
       "      <th>1</th>\n",
       "      <td>2</td>\n",
       "      <td>1.487116e+18</td>\n",
       "      <td>2022-01-28</td>\n",
       "      <td>@TolkinLoL ich kriege so schlechte Laune, wenn...</td>\n",
       "      <td>0</td>\n",
       "      <td>0</td>\n",
       "      <td>0.0</td>\n",
       "      <td>fnchsvn</td>\n",
       "      <td>Astralis</td>\n",
       "    </tr>\n",
       "    <tr>\n",
       "      <th>2</th>\n",
       "      <td>3</td>\n",
       "      <td>1.487093e+18</td>\n",
       "      <td>2022-01-28</td>\n",
       "      <td>Is this the Blancos team? \\r\\n\\r\\nOggi si punt...</td>\n",
       "      <td>12</td>\n",
       "      <td>7</td>\n",
       "      <td>0.0</td>\n",
       "      <td>DeugemoTwo</td>\n",
       "      <td>LEC</td>\n",
       "    </tr>\n",
       "    <tr>\n",
       "      <th>3</th>\n",
       "      <td>4</td>\n",
       "      <td>1.486025e+18</td>\n",
       "      <td>2022-01-25</td>\n",
       "      <td>Como Nisqy acabe el Astralis, creo que ganará ...</td>\n",
       "      <td>2</td>\n",
       "      <td>1</td>\n",
       "      <td>0.0</td>\n",
       "      <td>Sirinazurey</td>\n",
       "      <td>Fnatic</td>\n",
       "    </tr>\n",
       "    <tr>\n",
       "      <th>4</th>\n",
       "      <td>5</td>\n",
       "      <td>1.484948e+18</td>\n",
       "      <td>2022-01-22</td>\n",
       "      <td>@MuliBoom Oglądam LOLa 8 lat i jeszcze nigdy n...</td>\n",
       "      <td>15</td>\n",
       "      <td>0</td>\n",
       "      <td>0.0</td>\n",
       "      <td>PodolBS</td>\n",
       "      <td>Excel</td>\n",
       "    </tr>\n",
       "    <tr>\n",
       "      <th>...</th>\n",
       "      <td>...</td>\n",
       "      <td>...</td>\n",
       "      <td>...</td>\n",
       "      <td>...</td>\n",
       "      <td>...</td>\n",
       "      <td>...</td>\n",
       "      <td>...</td>\n",
       "      <td>...</td>\n",
       "      <td>...</td>\n",
       "    </tr>\n",
       "    <tr>\n",
       "      <th>372136</th>\n",
       "      <td>431123</td>\n",
       "      <td>1.460040e+18</td>\n",
       "      <td>2021-11-15</td>\n",
       "      <td>Was a very good time to have you in the team y...</td>\n",
       "      <td>2</td>\n",
       "      <td>0</td>\n",
       "      <td>0.0</td>\n",
       "      <td>CowKaaa</td>\n",
       "      <td>LFL</td>\n",
       "    </tr>\n",
       "    <tr>\n",
       "      <th>372137</th>\n",
       "      <td>431124</td>\n",
       "      <td>1.460039e+18</td>\n",
       "      <td>2021-11-15</td>\n",
       "      <td>自分の顔に合うマスクが\\r\\n無い事が最近の悩み、、\\r\\n大きいと大きすぎて\\r\\n小さい...</td>\n",
       "      <td>0</td>\n",
       "      <td>0</td>\n",
       "      <td>0.0</td>\n",
       "      <td>Ck_truelife</td>\n",
       "      <td>LFL</td>\n",
       "    </tr>\n",
       "    <tr>\n",
       "      <th>372138</th>\n",
       "      <td>431125</td>\n",
       "      <td>1.460036e+18</td>\n",
       "      <td>2021-11-15</td>\n",
       "      <td>Jual followers\\r\\n- Instagram\\r\\n- Twitter\\r\\n...</td>\n",
       "      <td>0</td>\n",
       "      <td>0</td>\n",
       "      <td>0.0</td>\n",
       "      <td>mimif_05</td>\n",
       "      <td>LFL</td>\n",
       "    </tr>\n",
       "    <tr>\n",
       "      <th>372139</th>\n",
       "      <td>431126</td>\n",
       "      <td>1.460036e+18</td>\n",
       "      <td>2021-11-15</td>\n",
       "      <td>Skull Practice\\r\\n\\r\\n#artwork #art #drawing #...</td>\n",
       "      <td>1</td>\n",
       "      <td>0</td>\n",
       "      <td>0.0</td>\n",
       "      <td>bbdwbayu</td>\n",
       "      <td>LFL</td>\n",
       "    </tr>\n",
       "    <tr>\n",
       "      <th>372140</th>\n",
       "      <td>431127</td>\n",
       "      <td>1.460035e+18</td>\n",
       "      <td>2021-11-15</td>\n",
       "      <td>💞😊只今の時刻は09:00分です😊💞\\r\\n相互フォロー＆リツイートに協力お願いいたします！...</td>\n",
       "      <td>1</td>\n",
       "      <td>0</td>\n",
       "      <td>0.0</td>\n",
       "      <td>keeeeeeeeeeki0</td>\n",
       "      <td>LFL</td>\n",
       "    </tr>\n",
       "  </tbody>\n",
       "</table>\n",
       "<p>372141 rows × 9 columns</p>\n",
       "</div>"
      ],
      "text/plain": [
       "       Unnamed: 0            id        date  \\\n",
       "0               1  1.487473e+18  2022-01-29   \n",
       "1               2  1.487116e+18  2022-01-28   \n",
       "2               3  1.487093e+18  2022-01-28   \n",
       "3               4  1.486025e+18  2022-01-25   \n",
       "4               5  1.484948e+18  2022-01-22   \n",
       "...           ...           ...         ...   \n",
       "372136     431123  1.460040e+18  2021-11-15   \n",
       "372137     431124  1.460039e+18  2021-11-15   \n",
       "372138     431125  1.460036e+18  2021-11-15   \n",
       "372139     431126  1.460036e+18  2021-11-15   \n",
       "372140     431127  1.460035e+18  2021-11-15   \n",
       "\n",
       "                                                  content like reply  retweet  \\\n",
       "0       Oglądam LOLa 8 lat i jeszcze nigdy nie widzial...    1     0      0.0   \n",
       "1       @TolkinLoL ich kriege so schlechte Laune, wenn...    0     0      0.0   \n",
       "2       Is this the Blancos team? \\r\\n\\r\\nOggi si punt...   12     7      0.0   \n",
       "3       Como Nisqy acabe el Astralis, creo que ganará ...    2     1      0.0   \n",
       "4       @MuliBoom Oglądam LOLa 8 lat i jeszcze nigdy n...   15     0      0.0   \n",
       "...                                                   ...  ...   ...      ...   \n",
       "372136  Was a very good time to have you in the team y...    2     0      0.0   \n",
       "372137  自分の顔に合うマスクが\\r\\n無い事が最近の悩み、、\\r\\n大きいと大きすぎて\\r\\n小さい...    0     0      0.0   \n",
       "372138  Jual followers\\r\\n- Instagram\\r\\n- Twitter\\r\\n...    0     0      0.0   \n",
       "372139  Skull Practice\\r\\n\\r\\n#artwork #art #drawing #...    1     0      0.0   \n",
       "372140  💞😊只今の時刻は09:00分です😊💞\\r\\n相互フォロー＆リツイートに協力お願いいたします！...    1     0      0.0   \n",
       "\n",
       "              username       tag  \n",
       "0              KeNyDi5     Excel  \n",
       "1              fnchsvn  Astralis  \n",
       "2           DeugemoTwo       LEC  \n",
       "3          Sirinazurey    Fnatic  \n",
       "4              PodolBS     Excel  \n",
       "...                ...       ...  \n",
       "372136         CowKaaa       LFL  \n",
       "372137     Ck_truelife       LFL  \n",
       "372138        mimif_05       LFL  \n",
       "372139        bbdwbayu       LFL  \n",
       "372140  keeeeeeeeeeki0       LFL  \n",
       "\n",
       "[372141 rows x 9 columns]"
      ]
     },
     "execution_count": 58,
     "metadata": {},
     "output_type": "execute_result"
    }
   ],
   "source": [
    "df"
   ]
  },
  {
   "cell_type": "code",
   "execution_count": 85,
   "id": "d05de4a0",
   "metadata": {},
   "outputs": [],
   "source": [
    "client = MongoClient('localhost',27017)"
   ]
  },
  {
   "cell_type": "code",
   "execution_count": 86,
   "id": "cfdbafbb",
   "metadata": {},
   "outputs": [
    {
     "name": "stdout",
     "output_type": "stream",
     "text": [
      "['admin', 'config', 'local']\n"
     ]
    }
   ],
   "source": [
    "print(client.list_database_names())"
   ]
  },
  {
   "cell_type": "code",
   "execution_count": 91,
   "id": "9e1052e0",
   "metadata": {},
   "outputs": [],
   "source": [
    "db = client.project\n",
    "collection = db['LoL_community']"
   ]
  },
  {
   "cell_type": "code",
   "execution_count": 92,
   "id": "8b3aa801",
   "metadata": {},
   "outputs": [],
   "source": [
    "records = json.loads(df.T.to_json()).values()"
   ]
  },
  {
   "cell_type": "code",
   "execution_count": 93,
   "id": "2e8d358c",
   "metadata": {},
   "outputs": [
    {
     "data": {
      "text/plain": [
       "<pymongo.results.InsertManyResult at 0x1fbb44603c0>"
      ]
     },
     "execution_count": 93,
     "metadata": {},
     "output_type": "execute_result"
    }
   ],
   "source": [
    "collection.insert_many(records)"
   ]
  },
  {
   "cell_type": "code",
   "execution_count": 102,
   "id": "cd10e668",
   "metadata": {},
   "outputs": [
    {
     "name": "stdout",
     "output_type": "stream",
     "text": [
      "['admin', 'config', 'local', 'project']\n"
     ]
    }
   ],
   "source": [
    " print(client.list_database_names())"
   ]
  },
  {
   "cell_type": "code",
   "execution_count": 103,
   "id": "c3c75096",
   "metadata": {},
   "outputs": [
    {
     "data": {
      "text/plain": [
       "['LoL_community']"
      ]
     },
     "execution_count": 103,
     "metadata": {},
     "output_type": "execute_result"
    }
   ],
   "source": [
    "db.list_collection_names()"
   ]
  },
  {
   "cell_type": "code",
   "execution_count": 99,
   "id": "7d9f0788",
   "metadata": {},
   "outputs": [],
   "source": [
    "db.collection.find_one()"
   ]
  },
  {
   "cell_type": "code",
   "execution_count": 108,
   "id": "70678cad",
   "metadata": {},
   "outputs": [],
   "source": [
    "def push_data_to_mongo(df, collection_name):\n",
    "    client = MongoClient('localhost',27017)\n",
    "    db = client.project\n",
    "    collection = db[collection_name]\n",
    "    data = json.loads(df.T.to_json()).values()\n",
    "    collection.insert_many(data)"
   ]
  },
  {
   "cell_type": "code",
   "execution_count": 110,
   "id": "8bbc54ee",
   "metadata": {},
   "outputs": [],
   "source": [
    "push_data_to_mongo(df, 'LoL_community')"
   ]
  },
  {
   "cell_type": "code",
   "execution_count": 111,
   "id": "022abfb0",
   "metadata": {},
   "outputs": [],
   "source": [
    "def get_data_from_mongo(db, collection_name):\n",
    "    col = db[collection_name]\n",
    "    df = pd.DataFrame(list(col.find()))\n",
    "    return df"
   ]
  },
  {
   "cell_type": "code",
   "execution_count": 112,
   "id": "e4781bba",
   "metadata": {},
   "outputs": [],
   "source": [
    "df_mongo = get_data_from_mongo(db, 'LoL_community')"
   ]
  },
  {
   "cell_type": "code",
   "execution_count": 113,
   "id": "34b4035f",
   "metadata": {},
   "outputs": [
    {
     "data": {
      "text/html": [
       "<div>\n",
       "<style scoped>\n",
       "    .dataframe tbody tr th:only-of-type {\n",
       "        vertical-align: middle;\n",
       "    }\n",
       "\n",
       "    .dataframe tbody tr th {\n",
       "        vertical-align: top;\n",
       "    }\n",
       "\n",
       "    .dataframe thead th {\n",
       "        text-align: right;\n",
       "    }\n",
       "</style>\n",
       "<table border=\"1\" class=\"dataframe\">\n",
       "  <thead>\n",
       "    <tr style=\"text-align: right;\">\n",
       "      <th></th>\n",
       "      <th>_id</th>\n",
       "      <th>Unnamed: 0</th>\n",
       "      <th>id</th>\n",
       "      <th>date</th>\n",
       "      <th>content</th>\n",
       "      <th>like</th>\n",
       "      <th>reply</th>\n",
       "      <th>retweet</th>\n",
       "      <th>username</th>\n",
       "      <th>tag</th>\n",
       "    </tr>\n",
       "  </thead>\n",
       "  <tbody>\n",
       "    <tr>\n",
       "      <th>0</th>\n",
       "      <td>61f66de601b2ba2a5b706f3a</td>\n",
       "      <td>1</td>\n",
       "      <td>1.487473e+18</td>\n",
       "      <td>2022-01-29</td>\n",
       "      <td>Oglądam LOLa 8 lat i jeszcze nigdy nie widzial...</td>\n",
       "      <td>1</td>\n",
       "      <td>0</td>\n",
       "      <td>0.0</td>\n",
       "      <td>KeNyDi5</td>\n",
       "      <td>Excel</td>\n",
       "    </tr>\n",
       "    <tr>\n",
       "      <th>1</th>\n",
       "      <td>61f66de601b2ba2a5b706f3b</td>\n",
       "      <td>2</td>\n",
       "      <td>1.487116e+18</td>\n",
       "      <td>2022-01-28</td>\n",
       "      <td>@TolkinLoL ich kriege so schlechte Laune, wenn...</td>\n",
       "      <td>0</td>\n",
       "      <td>0</td>\n",
       "      <td>0.0</td>\n",
       "      <td>fnchsvn</td>\n",
       "      <td>Astralis</td>\n",
       "    </tr>\n",
       "    <tr>\n",
       "      <th>2</th>\n",
       "      <td>61f66de601b2ba2a5b706f3c</td>\n",
       "      <td>3</td>\n",
       "      <td>1.487093e+18</td>\n",
       "      <td>2022-01-28</td>\n",
       "      <td>Is this the Blancos team? \\r\\n\\r\\nOggi si punt...</td>\n",
       "      <td>12</td>\n",
       "      <td>7</td>\n",
       "      <td>0.0</td>\n",
       "      <td>DeugemoTwo</td>\n",
       "      <td>LEC</td>\n",
       "    </tr>\n",
       "    <tr>\n",
       "      <th>3</th>\n",
       "      <td>61f66de601b2ba2a5b706f3d</td>\n",
       "      <td>4</td>\n",
       "      <td>1.486025e+18</td>\n",
       "      <td>2022-01-25</td>\n",
       "      <td>Como Nisqy acabe el Astralis, creo que ganará ...</td>\n",
       "      <td>2</td>\n",
       "      <td>1</td>\n",
       "      <td>0.0</td>\n",
       "      <td>Sirinazurey</td>\n",
       "      <td>Fnatic</td>\n",
       "    </tr>\n",
       "    <tr>\n",
       "      <th>4</th>\n",
       "      <td>61f66de601b2ba2a5b706f3e</td>\n",
       "      <td>5</td>\n",
       "      <td>1.484948e+18</td>\n",
       "      <td>2022-01-22</td>\n",
       "      <td>@MuliBoom Oglądam LOLa 8 lat i jeszcze nigdy n...</td>\n",
       "      <td>15</td>\n",
       "      <td>0</td>\n",
       "      <td>0.0</td>\n",
       "      <td>PodolBS</td>\n",
       "      <td>Excel</td>\n",
       "    </tr>\n",
       "    <tr>\n",
       "      <th>...</th>\n",
       "      <td>...</td>\n",
       "      <td>...</td>\n",
       "      <td>...</td>\n",
       "      <td>...</td>\n",
       "      <td>...</td>\n",
       "      <td>...</td>\n",
       "      <td>...</td>\n",
       "      <td>...</td>\n",
       "      <td>...</td>\n",
       "      <td>...</td>\n",
       "    </tr>\n",
       "    <tr>\n",
       "      <th>372136</th>\n",
       "      <td>61f66de801b2ba2a5b761ce2</td>\n",
       "      <td>431123</td>\n",
       "      <td>1.460040e+18</td>\n",
       "      <td>2021-11-15</td>\n",
       "      <td>Was a very good time to have you in the team y...</td>\n",
       "      <td>2</td>\n",
       "      <td>0</td>\n",
       "      <td>0.0</td>\n",
       "      <td>CowKaaa</td>\n",
       "      <td>LFL</td>\n",
       "    </tr>\n",
       "    <tr>\n",
       "      <th>372137</th>\n",
       "      <td>61f66de801b2ba2a5b761ce3</td>\n",
       "      <td>431124</td>\n",
       "      <td>1.460039e+18</td>\n",
       "      <td>2021-11-15</td>\n",
       "      <td>自分の顔に合うマスクが\\r\\n無い事が最近の悩み、、\\r\\n大きいと大きすぎて\\r\\n小さい...</td>\n",
       "      <td>0</td>\n",
       "      <td>0</td>\n",
       "      <td>0.0</td>\n",
       "      <td>Ck_truelife</td>\n",
       "      <td>LFL</td>\n",
       "    </tr>\n",
       "    <tr>\n",
       "      <th>372138</th>\n",
       "      <td>61f66de801b2ba2a5b761ce4</td>\n",
       "      <td>431125</td>\n",
       "      <td>1.460036e+18</td>\n",
       "      <td>2021-11-15</td>\n",
       "      <td>Jual followers\\r\\n- Instagram\\r\\n- Twitter\\r\\n...</td>\n",
       "      <td>0</td>\n",
       "      <td>0</td>\n",
       "      <td>0.0</td>\n",
       "      <td>mimif_05</td>\n",
       "      <td>LFL</td>\n",
       "    </tr>\n",
       "    <tr>\n",
       "      <th>372139</th>\n",
       "      <td>61f66de801b2ba2a5b761ce5</td>\n",
       "      <td>431126</td>\n",
       "      <td>1.460036e+18</td>\n",
       "      <td>2021-11-15</td>\n",
       "      <td>Skull Practice\\r\\n\\r\\n#artwork #art #drawing #...</td>\n",
       "      <td>1</td>\n",
       "      <td>0</td>\n",
       "      <td>0.0</td>\n",
       "      <td>bbdwbayu</td>\n",
       "      <td>LFL</td>\n",
       "    </tr>\n",
       "    <tr>\n",
       "      <th>372140</th>\n",
       "      <td>61f66de801b2ba2a5b761ce6</td>\n",
       "      <td>431127</td>\n",
       "      <td>1.460035e+18</td>\n",
       "      <td>2021-11-15</td>\n",
       "      <td>💞😊只今の時刻は09:00分です😊💞\\r\\n相互フォロー＆リツイートに協力お願いいたします！...</td>\n",
       "      <td>1</td>\n",
       "      <td>0</td>\n",
       "      <td>0.0</td>\n",
       "      <td>keeeeeeeeeeki0</td>\n",
       "      <td>LFL</td>\n",
       "    </tr>\n",
       "  </tbody>\n",
       "</table>\n",
       "<p>372141 rows × 10 columns</p>\n",
       "</div>"
      ],
      "text/plain": [
       "                             _id Unnamed: 0            id        date  \\\n",
       "0       61f66de601b2ba2a5b706f3a          1  1.487473e+18  2022-01-29   \n",
       "1       61f66de601b2ba2a5b706f3b          2  1.487116e+18  2022-01-28   \n",
       "2       61f66de601b2ba2a5b706f3c          3  1.487093e+18  2022-01-28   \n",
       "3       61f66de601b2ba2a5b706f3d          4  1.486025e+18  2022-01-25   \n",
       "4       61f66de601b2ba2a5b706f3e          5  1.484948e+18  2022-01-22   \n",
       "...                          ...        ...           ...         ...   \n",
       "372136  61f66de801b2ba2a5b761ce2     431123  1.460040e+18  2021-11-15   \n",
       "372137  61f66de801b2ba2a5b761ce3     431124  1.460039e+18  2021-11-15   \n",
       "372138  61f66de801b2ba2a5b761ce4     431125  1.460036e+18  2021-11-15   \n",
       "372139  61f66de801b2ba2a5b761ce5     431126  1.460036e+18  2021-11-15   \n",
       "372140  61f66de801b2ba2a5b761ce6     431127  1.460035e+18  2021-11-15   \n",
       "\n",
       "                                                  content like reply  retweet  \\\n",
       "0       Oglądam LOLa 8 lat i jeszcze nigdy nie widzial...    1     0      0.0   \n",
       "1       @TolkinLoL ich kriege so schlechte Laune, wenn...    0     0      0.0   \n",
       "2       Is this the Blancos team? \\r\\n\\r\\nOggi si punt...   12     7      0.0   \n",
       "3       Como Nisqy acabe el Astralis, creo que ganará ...    2     1      0.0   \n",
       "4       @MuliBoom Oglądam LOLa 8 lat i jeszcze nigdy n...   15     0      0.0   \n",
       "...                                                   ...  ...   ...      ...   \n",
       "372136  Was a very good time to have you in the team y...    2     0      0.0   \n",
       "372137  自分の顔に合うマスクが\\r\\n無い事が最近の悩み、、\\r\\n大きいと大きすぎて\\r\\n小さい...    0     0      0.0   \n",
       "372138  Jual followers\\r\\n- Instagram\\r\\n- Twitter\\r\\n...    0     0      0.0   \n",
       "372139  Skull Practice\\r\\n\\r\\n#artwork #art #drawing #...    1     0      0.0   \n",
       "372140  💞😊只今の時刻は09:00分です😊💞\\r\\n相互フォロー＆リツイートに協力お願いいたします！...    1     0      0.0   \n",
       "\n",
       "              username       tag  \n",
       "0              KeNyDi5     Excel  \n",
       "1              fnchsvn  Astralis  \n",
       "2           DeugemoTwo       LEC  \n",
       "3          Sirinazurey    Fnatic  \n",
       "4              PodolBS     Excel  \n",
       "...                ...       ...  \n",
       "372136         CowKaaa       LFL  \n",
       "372137     Ck_truelife       LFL  \n",
       "372138        mimif_05       LFL  \n",
       "372139        bbdwbayu       LFL  \n",
       "372140  keeeeeeeeeeki0       LFL  \n",
       "\n",
       "[372141 rows x 10 columns]"
      ]
     },
     "execution_count": 113,
     "metadata": {},
     "output_type": "execute_result"
    }
   ],
   "source": [
    "df_mongo"
   ]
  },
  {
   "cell_type": "code",
   "execution_count": 43,
   "id": "b5800928",
   "metadata": {},
   "outputs": [
    {
     "data": {
      "text/plain": [
       "['collection']"
      ]
     },
     "execution_count": 43,
     "metadata": {},
     "output_type": "execute_result"
    }
   ],
   "source": [
    "db.list_collection_names()"
   ]
  },
  {
   "cell_type": "code",
   "execution_count": 53,
   "id": "4c24a8ee",
   "metadata": {},
   "outputs": [
    {
     "data": {
      "text/plain": [
       "<pymongo.results.InsertOneResult at 0x1fb94ffeb40>"
      ]
     },
     "execution_count": 53,
     "metadata": {},
     "output_type": "execute_result"
    }
   ],
   "source": [
    "collection2.insert_one(\n",
    "    {\n",
    "    \"firstname\" : \"Thomas\",\n",
    "    \"lastname\" : \"Shelby\",\n",
    "    \"position\" : \"CEO\",\n",
    "    \"gender\" : \"Male\",\n",
    "    \"age\" : 35,\n",
    "    \"description\" : \"Thomas 'Tommy' Michael Shelby M.P. OBE, is the leader of the Birmingham criminal gang Peaky Blinders and the patriarch of the Shelby Family. His experiences during and after the First World War have left him disillusioned and determined to move his family up in the world.\",\n",
    "    \"nicknames\" : [\"Tom\", \"Tommy\", \"Thomas\"],\n",
    "    \"company\" : \"Peaky Blinders\",\n",
    "    \"episodes\" : [1,2,4,5,6]\n",
    "    })"
   ]
  },
  {
   "cell_type": "code",
   "execution_count": 1,
   "id": "9c6fe1f5",
   "metadata": {},
   "outputs": [],
   "source": [
    "collection_name = \"oui\""
   ]
  },
  {
   "cell_type": "code",
   "execution_count": 3,
   "id": "ab44fee0",
   "metadata": {},
   "outputs": [
    {
     "name": "stdout",
     "output_type": "stream",
     "text": [
      "The collection 'oui' has been added successfully !\n"
     ]
    }
   ],
   "source": [
    "print(\"The collection '\"+collection_name+\"' has been added successfully !\")"
   ]
  },
  {
   "cell_type": "code",
   "execution_count": null,
   "id": "7459badc",
   "metadata": {},
   "outputs": [],
   "source": []
  }
 ],
 "metadata": {
  "kernelspec": {
   "display_name": "Python 3 (ipykernel)",
   "language": "python",
   "name": "python3"
  },
  "language_info": {
   "codemirror_mode": {
    "name": "ipython",
    "version": 3
   },
   "file_extension": ".py",
   "mimetype": "text/x-python",
   "name": "python",
   "nbconvert_exporter": "python",
   "pygments_lexer": "ipython3",
   "version": "3.9.7"
  }
 },
 "nbformat": 4,
 "nbformat_minor": 5
}
