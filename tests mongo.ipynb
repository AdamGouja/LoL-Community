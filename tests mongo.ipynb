{
 "cells": [
  {
   "cell_type": "code",
   "execution_count": 42,
   "id": "ae5bc4de",
   "metadata": {},
   "outputs": [],
   "source": [
    "import pandas as pd\n",
    "import pymongo\n",
    "from pymongo import MongoClient"
   ]
  },
  {
   "cell_type": "code",
   "execution_count": 103,
   "id": "d05de4a0",
   "metadata": {},
   "outputs": [],
   "source": [
    "client = MongoClient(\"127.0.0.1:27017\")"
   ]
  },
  {
   "cell_type": "code",
   "execution_count": 104,
   "id": "cfdbafbb",
   "metadata": {},
   "outputs": [
    {
     "name": "stdout",
     "output_type": "stream",
     "text": [
      "['admin', 'config', 'local']\n"
     ]
    }
   ],
   "source": [
    "print(client.list_database_names())"
   ]
  },
  {
   "cell_type": "code",
   "execution_count": 105,
   "id": "9e1052e0",
   "metadata": {},
   "outputs": [],
   "source": [
    "database = client.project\n",
    "collection = database['LoL_community']"
   ]
  },
  {
   "cell_type": "code",
   "execution_count": null,
   "id": "cece269c",
   "metadata": {},
   "outputs": [],
   "source": []
  }
 ],
 "metadata": {
  "kernelspec": {
   "display_name": "Python 3 (ipykernel)",
   "language": "python",
   "name": "python3"
  },
  "language_info": {
   "codemirror_mode": {
    "name": "ipython",
    "version": 3
   },
   "file_extension": ".py",
   "mimetype": "text/x-python",
   "name": "python",
   "nbconvert_exporter": "python",
   "pygments_lexer": "ipython3",
   "version": "3.9.7"
  }
 },
 "nbformat": 4,
 "nbformat_minor": 5
}
